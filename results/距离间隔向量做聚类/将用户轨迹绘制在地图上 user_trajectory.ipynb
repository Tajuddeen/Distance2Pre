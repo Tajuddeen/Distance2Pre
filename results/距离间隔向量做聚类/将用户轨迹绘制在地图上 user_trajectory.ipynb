{
 "cells": [
  {
   "cell_type": "code",
   "execution_count": 4,
   "metadata": {},
   "outputs": [],
   "source": [
    "import folium\n",
    "from folium import plugins\n",
    "import numpy as np\n",
    "import pandas as pd\n",
    "import matplotlib.pyplot as plt\n",
    "import random\n",
    "from sklearn.cluster import KMeans\n",
    "from collections import Counter"
   ]
  },
  {
   "cell_type": "code",
   "execution_count": 5,
   "metadata": {},
   "outputs": [
    {
     "name": "stdout",
     "output_type": "stream",
     "text": [
      "(1.3279412, 103.84396)\n"
     ]
    }
   ],
   "source": [
    "PATH_f = '../programs_theano_poi/poidata/Foursquare/sequence/Foursquare.txt'\n",
    "# PATH_g = './poidata/Gowalla/sequence/Gowalla.txt'\n",
    "pois = pd.read_csv(PATH_f, sep=' ')\n",
    "# all_user_pois = [[i for i in upois.split('/')] for upois in pois['u_pois']]\n",
    "all_user_cordi = [[tuple(map(float, i.split(','))) for i in upois.split('/')] for upois in pois['u_coordinates']]\n",
    "all_cordi = [cordi for ucordi in all_user_cordi for cordi in ucordi]\n",
    "all_cordi = np.asarray(all_cordi).astype('float32')\n",
    "mean_lat = np.mean(all_cordi[:, 0])\n",
    "mean_lon = np.mean(all_cordi[:, 1])\n",
    "print(mean_lat, mean_lon)\n",
    "colors = ['red', 'blue', 'black', 'green', 'yellow', 'cyan', 'magenta', 'ivory', 'darkblue', 'pink']"
   ]
  },
  {
   "cell_type": "code",
   "execution_count": 7,
   "metadata": {},
   "outputs": [],
   "source": [
    "# <--- lambda --->\n",
    "lmd_last = np.load('../Lmdd/Foursquare.txt_20_150_150last1.npy')  # user x lmdd_size = (2310, 377)\n",
    "pd_lmd_last = pd.DataFrame(lmd_last)\n",
    "kmeans_model = KMeans(n_clusters=10).fit(pd_lmd_last)\n",
    "cluster_labels = kmeans_model.labels_"
   ]
  },
  {
   "cell_type": "code",
   "execution_count": 11,
   "metadata": {},
   "outputs": [],
   "source": [
    "print('cluster: 9')\n",
    "user = 1020\n",
    "pd_lmd_last = pd.DataFrame(lmd_last[user, :30].T)\n",
    "pd_lmd_last.plot()\n",
    "plt.show()\n",
    "cluster_map = folium.Map(location=[mean_lat, mean_lon])\n",
    "# folium.TileLayer('openstreetmap').add_to(cluster_map)       # 背景地图彩色，颜色太重。\n",
    "# https://deparkes.co.uk/2016/06/10/folium-map-tiles/       # 各种底色风格\n",
    "folium.TileLayer('cartodbpositron').add_to(cluster_map)         # 淡色背景\n",
    "points = all_user_cordi[user]\n",
    "print len(points)\n",
    "for each in points:\n",
    "    folium.Marker(each).add_to(cluster_map)\n",
    "# cluster_map.add_child(plugins.HeatMap(points[-70:], radius=20))\n",
    "folium.PolyLine(points).add_to(cluster_map)\n",
    "cluster_map.save('user1020_cluster9.html')\n",
    "cluster_map"
   ]
  },
  {
   "cell_type": "code",
   "execution_count": 14,
   "metadata": {},
   "outputs": [
    {
     "name": "stdout",
     "output_type": "stream",
     "text": [
      "cluster: 4\n"
     ]
    },
    {
     "data": {
      "image/png": "[encoded data removed]"
     },
     "output_type": "display_data",
     "metadata": {}
    },
    {
     "name": "stdout",
     "output_type": "stream",
     "text": [
      "85\n"
     ]
    },
    {
     "data": {
      "text/html": [
       "<div style=\"width:100%;\"><div style=\"position:relative;width:100%;height:0;padding-bottom:60%;\"><iframe src=\"data:text/html;charset=utf-8;base64,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\" style=\"position:absolute;width:100%;height:100%;left:0;top:0;border:none !important;\" allowfullscreen webkitallowfullscreen mozallowfullscreen></iframe></div></div>"
      ]
     },
     "output_type": "execute_result",
     "metadata": {}
    }
   ],
   "source": [
    "print('cluster: 4')\n",
    "user = 738\n",
    "pd_lmd_last = pd.DataFrame(lmd_last[user, :30].T)\n",
    "pd_lmd_last.plot()\n",
    "plt.show()\n",
    "cluster_map = folium.Map(location=[mean_lat, mean_lon])\n",
    "# folium.TileLayer('openstreetmap').add_to(cluster_map)       # 背景地图彩色，颜色太重。\n",
    "# https://deparkes.co.uk/2016/06/10/folium-map-tiles/       # 各种底色风格\n",
    "folium.TileLayer('cartodbpositron').add_to(cluster_map)         # 淡色背景\n",
    "points = all_user_cordi[user]\n",
    "print len(points)\n",
    "for each in points[-60:]:\n",
    "    folium.Marker(each).add_to(cluster_map)\n",
    "# cluster_map.add_child(plugins.HeatMap(points[-70:], radius=20))\n",
    "folium.PolyLine(points[-60:]).add_to(cluster_map)\n",
    "cluster_map.save('user738_cluster4.html')\n",
    "cluster_map"
   ]
  },
  {
   "cell_type": "code",
   "execution_count": 16,
   "metadata": {},
   "outputs": [],
   "source": [
    "print('cluster: 3')\n",
    "user = 758\n",
    "pd_lmd_last = pd.DataFrame(lmd_last[user, :30].T)\n",
    "pd_lmd_last.plot()\n",
    "plt.show()\n",
    "cluster_map = folium.Map(location=[mean_lat, mean_lon])\n",
    "# folium.TileLayer('openstreetmap').add_to(cluster_map)       # 背景地图彩色，颜色太重。\n",
    "# https://deparkes.co.uk/2016/06/10/folium-map-tiles/       # 各种底色风格\n",
    "folium.TileLayer('cartodbpositron').add_to(cluster_map)         # 淡色背景\n",
    "points = all_user_cordi[user]\n",
    "print len(points)\n",
    "for each in points[-60:]:\n",
    "    folium.Marker(each).add_to(cluster_map)\n",
    "# cluster_map.add_child(plugins.HeatMap(points[-70:], radius=20))\n",
    "folium.PolyLine(points[-60:]).add_to(cluster_map)\n",
    "cluster_map.save('user758_cluster3.html')\n",
    "cluster_map"
   ]
  },
  {
   "cell_type": "code",
   "execution_count": null,
   "metadata": {},
   "outputs": [],
   "source": [
    ""
   ]
  }
 ],
 "metadata": {
  "kernelspec": {
   "display_name": "Python [conda root]",
   "language": "python",
   "name": "conda-root-py"
  },
  "language_info": {
   "codemirror_mode": {
    "name": "ipython",
    "version": 2.0
   },
   "file_extension": ".py",
   "mimetype": "text/x-python",
   "name": "python",
   "nbconvert_exporter": "python",
   "pygments_lexer": "ipython2",
   "version": "2.7.13"
  }
 },
 "nbformat": 4,
 "nbformat_minor": 2
}